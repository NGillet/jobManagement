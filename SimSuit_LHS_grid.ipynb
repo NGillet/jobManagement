{
 "cells": [
  {
   "cell_type": "code",
   "execution_count": null,
   "metadata": {
    "collapsed": true
   },
   "outputs": [],
   "source": [
    "%matplotlib notebook\n",
    "\n",
    "import numpy as np\n",
    "import matplotlib.pyplot as plt\n",
    "\n",
    "from time import time\n",
    "import sys\n",
    "\n",
    "import pyDOE\n",
    "\n",
    "%load_ext autoreload\n",
    "%autoreload 2"
   ]
  },
  {
   "cell_type": "code",
   "execution_count": null,
   "metadata": {
    "collapsed": true
   },
   "outputs": [],
   "source": [
    "### FOR DATA REPRODUCTIBILITY\n",
    "RANDOMSEED = 2662 "
   ]
  },
  {
   "cell_type": "code",
   "execution_count": null,
   "metadata": {},
   "outputs": [],
   "source": [
    "np.random.RandomState( np.random.seed(RANDOMSEED) ) ### fixe the random seed for testing"
   ]
  },
  {
   "cell_type": "code",
   "execution_count": null,
   "metadata": {
    "collapsed": true
   },
   "outputs": [],
   "source": [
    "### PARAMETERS RANGE\n",
    "range_deltaStar = [ np.log10(20.), np.log10(500.) ] ### in log\n",
    "range_espilonSn = [ 0., 1. ] ### lin\n",
    "range_espilonSF = [ np.log10(0.001), np.log10(0.03) ] ### lin: [ 0.001, 0.03 ], in log :[ np.log10(0.001), np.log10(0.03) ] = [-3, 1.52]"
   ]
  },
  {
   "cell_type": "code",
   "execution_count": null,
   "metadata": {
    "collapsed": true
   },
   "outputs": [],
   "source": [
    "number_of_param = 3\n",
    "number_of_points = 100 \n",
    "LHS_sample = pyDOE.lhs( number_of_param, samples=number_of_points, criterion='m' ) ### LHS matrix, criterion= c, m, cm, corr"
   ]
  },
  {
   "cell_type": "code",
   "execution_count": null,
   "metadata": {},
   "outputs": [],
   "source": [
    "print( LHS_sample.shape )\n",
    "param_sample = np.zeros( [number_of_points, 4] )\n",
    "param_sample[:,0] = np.arange( number_of_points )\n",
    "param_sample[:,1] = 10**( LHS_sample[:,0] * np.diff( range_deltaStar ) + range_deltaStar[0] )\n",
    "param_sample[:,2] = LHS_sample[:,1] * np.diff( range_espilonSn ) + range_espilonSn[0]\n",
    "param_sample[:,3] = 10**( LHS_sample[:,2] * np.diff( range_espilonSF ) + range_espilonSF[0] )"
   ]
  },
  {
   "cell_type": "code",
   "execution_count": null,
   "metadata": {
    "collapsed": true
   },
   "outputs": [],
   "source": [
    "file_name = 'SimSuit_LHS_grid.dat'\n",
    "header = 'LHS sample of '+ str(number_of_points) +' points \\n num delta* epsilon_SN epsilon_SF'\n",
    "np.savetxt( file_name, param_sample, header=header, fmt='%.4f' )"
   ]
  },
  {
   "cell_type": "code",
   "execution_count": null,
   "metadata": {},
   "outputs": [],
   "source": [
    "plt.figure()\n",
    "plt.plot( param_sample[:,1], param_sample[:,2], 'b.' )\n",
    "#plt.semilogx()\n",
    "plt.figure()\n",
    "plt.plot( param_sample[:,1], param_sample[:,3], 'r.' )\n",
    "#plt.loglog()"
   ]
  },
  {
   "cell_type": "code",
   "execution_count": null,
   "metadata": {
    "collapsed": true
   },
   "outputs": [],
   "source": []
  },
  {
   "cell_type": "code",
   "execution_count": null,
   "metadata": {
    "collapsed": true
   },
   "outputs": [],
   "source": []
  }
 ],
 "metadata": {
  "kernelspec": {
   "display_name": "Python [conda root]",
   "language": "python",
   "name": "conda-root-py"
  },
  "language_info": {
   "codemirror_mode": {
    "name": "ipython",
    "version": 3
   },
   "file_extension": ".py",
   "mimetype": "text/x-python",
   "name": "python",
   "nbconvert_exporter": "python",
   "pygments_lexer": "ipython3",
   "version": "3.5.2"
  }
 },
 "nbformat": 4,
 "nbformat_minor": 2
}
